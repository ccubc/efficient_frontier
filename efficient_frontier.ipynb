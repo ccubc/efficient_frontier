{
 "cells": [
  {
   "cell_type": "markdown",
   "metadata": {},
   "source": [
    "# Efficient frontier\n",
    "We will be simulating efficient frontier in this notebook:\n",
    "1. acquire price data of the 'FAANG' stocks using pandas_datareader\n",
    "2. calculate daily returns\n",
    "3. calculate covariance matrix\n",
    "4. calculate annualized portfolio returns and risks given a set of weights\n",
    "5. simulating different portfolio returns and risks and store the results\n",
    "6. plot the effient frontier"
   ]
  },
  {
   "cell_type": "code",
   "execution_count": 1,
   "metadata": {},
   "outputs": [],
   "source": [
    "import pandas as pd\n",
    "import numpy as np\n",
    "import matplotlib.pyplot as plt\n",
    "import pandas_datareader as web"
   ]
  },
  {
   "cell_type": "markdown",
   "metadata": {},
   "source": [
    "### acquire price data"
   ]
  },
  {
   "cell_type": "code",
   "execution_count": 2,
   "metadata": {
    "tags": []
   },
   "outputs": [],
   "source": [
    "ticks = ['FB','AMZN', 'AAPL', 'NFLX', 'GOOGL']\n",
    "price_data_download = web.get_data_yahoo(ticks,\n",
    "                           start = '2012-12-31',\n",
    "                           end = '2017-12-31')['Adj Close']"
   ]
  },
  {
   "cell_type": "markdown",
   "metadata": {},
   "source": [
    "### calculate daily returns and covariance matrix"
   ]
  },
  {
   "cell_type": "code",
   "execution_count": 3,
   "metadata": {},
   "outputs": [],
   "source": [
    "price_data = price_data_download.copy()\n",
    "log_return_data =np.log(  price_data/price_data.shift(1) )\n",
    "n_days = 252\n",
    "mean_log_return = log_return_data.mean().to_numpy()\n",
    "cov_return = log_return_data.cov() * n_days"
   ]
  },
  {
   "cell_type": "markdown",
   "metadata": {},
   "source": [
    "### define a function to calculate annualized portfolio returns and risks given a vector of weights"
   ]
  },
  {
   "cell_type": "code",
   "execution_count": 4,
   "metadata": {},
   "outputs": [],
   "source": [
    "def portfolio_returns_risks(weights, mean_log_return, cov_return, n_days ):\n",
    "    temp_mean = (1+ mean_log_return.dot(weights) )**n_days -1\n",
    "    temp_std =np.sqrt(  weights.dot(cov_return).dot(weights.T) )\n",
    "    return [temp_mean, temp_std]"
   ]
  },
  {
   "cell_type": "markdown",
   "metadata": {},
   "source": [
    "### simulation"
   ]
  },
  {
   "cell_type": "code",
   "execution_count": 7,
   "metadata": {
    "scrolled": true
   },
   "outputs": [
    {
     "data": {
      "text/html": [
       "<div>\n",
       "<style scoped>\n",
       "    .dataframe tbody tr th:only-of-type {\n",
       "        vertical-align: middle;\n",
       "    }\n",
       "\n",
       "    .dataframe tbody tr th {\n",
       "        vertical-align: top;\n",
       "    }\n",
       "\n",
       "    .dataframe thead th {\n",
       "        text-align: right;\n",
       "    }\n",
       "</style>\n",
       "<table border=\"1\" class=\"dataframe\">\n",
       "  <thead>\n",
       "    <tr style=\"text-align: right;\">\n",
       "      <th></th>\n",
       "      <th>returns</th>\n",
       "      <th>risks</th>\n",
       "    </tr>\n",
       "  </thead>\n",
       "  <tbody>\n",
       "    <tr>\n",
       "      <th>0</th>\n",
       "      <td>0.402904</td>\n",
       "      <td>0.231085</td>\n",
       "    </tr>\n",
       "    <tr>\n",
       "      <th>1</th>\n",
       "      <td>0.456232</td>\n",
       "      <td>0.262201</td>\n",
       "    </tr>\n",
       "    <tr>\n",
       "      <th>2</th>\n",
       "      <td>0.371824</td>\n",
       "      <td>0.216020</td>\n",
       "    </tr>\n",
       "    <tr>\n",
       "      <th>3</th>\n",
       "      <td>0.437778</td>\n",
       "      <td>0.246779</td>\n",
       "    </tr>\n",
       "    <tr>\n",
       "      <th>4</th>\n",
       "      <td>0.362343</td>\n",
       "      <td>0.205171</td>\n",
       "    </tr>\n",
       "  </tbody>\n",
       "</table>\n",
       "</div>"
      ],
      "text/plain": [
       "    returns     risks\n",
       "0  0.402904  0.231085\n",
       "1  0.456232  0.262201\n",
       "2  0.371824  0.216020\n",
       "3  0.437778  0.246779\n",
       "4  0.362343  0.205171"
      ]
     },
     "execution_count": 7,
     "metadata": {},
     "output_type": "execute_result"
    }
   ],
   "source": [
    "n_nimulations = 5000\n",
    "simulation_results = []\n",
    "for i in range(n_nimulations):\n",
    "    weights = np.random.uniform( size = len(ticks) )\n",
    "    weights = weights/np.sum(weights) \n",
    "    results = portfolio_returns_risks(weights, mean_log_return, cov_return, n_days )\n",
    "    simulation_results.append( results  )\n",
    "simulation_results_df = pd.DataFrame(simulation_results, columns = ['returns', 'risks'])\n",
    "simulation_results_df.head()"
   ]
  },
  {
   "cell_type": "markdown",
   "metadata": {},
   "source": [
    "### plot the efficient frontier"
   ]
  },
  {
   "cell_type": "code",
   "execution_count": 6,
   "metadata": {},
   "outputs": [
    {
     "data": {
      "image/png": "[encoded data removed]",
      "text/plain": [
       "<Figure size 432x288 with 1 Axes>"
      ]
     },
     "metadata": {
      "needs_background": "light"
     },
     "output_type": "display_data"
    }
   ],
   "source": [
    "%matplotlib inline\n",
    "fig = plt.figure()\n",
    "plt.scatter(simulation_results_df['risks'], simulation_results_df['returns'])\n",
    "plt.show()"
   ]
  }
 ],
 "metadata": {
  "kernelspec": {
   "display_name": "Python 3",
   "language": "python",
   "name": "python3"
  },
  "language_info": {
   "codemirror_mode": {
    "name": "ipython",
    "version": 3
   },
   "file_extension": ".py",
   "mimetype": "text/x-python",
   "name": "python",
   "nbconvert_exporter": "python",
   "pygments_lexer": "ipython3",
   "version": "3.8.5"
  }
 },
 "nbformat": 4,
 "nbformat_minor": 2
}
